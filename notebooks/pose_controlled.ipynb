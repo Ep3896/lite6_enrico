{
 "cells": [
  {
   "cell_type": "markdown",
   "metadata": {},
   "source": [
    "# Pose Notebook\n",
    "In this notebook the Ufactory lite6 gripper is controlled through rotation angles but not really in a fashion way beacuse the reference frame is dynamic and not fixed, so it is really hard to give as input a certain position.\n",
    "This aspect needs to be fixed as soon as possibile"
   ]
  },
  {
   "cell_type": "markdown",
   "metadata": {},
   "source": [
    "**packages imports** \n"
   ]
  },
  {
   "cell_type": "code",
   "execution_count": 1,
   "metadata": {},
   "outputs": [],
   "source": [
    "#!/usr/bin/env python3\n",
    "import time\n",
    "import rclpy\n",
    "from rclpy.logging import get_logger\n",
    "#import moveit python library\n",
    "from moveit.core.robot_state import RobotState\n",
    "from moveit.planning import (MoveItPy,MultiPipelinePlanRequestParameters)\n",
    "\n",
    "import numpy as np\n",
    "from geometry_msgs.msg import PoseStamped, Pose    # set pose goal with PoseStamped messsage\n",
    "\n",
    "from math import pi\n",
    "\n",
    "from moveit_configs_utils import MoveItConfigsBuilder\n",
    "from ament_index_python.packages import get_package_share_directory\n",
    "import random"
   ]
  },
  {
   "cell_type": "markdown",
   "metadata": {},
   "source": [
    "**plan and execute function**\n",
    "\n",
    "- *Helper function to plan and execute a motion.*\n",
    " "
   ]
  },
  {
   "cell_type": "code",
   "execution_count": 2,
   "metadata": {},
   "outputs": [],
   "source": [
    "def plan_and_execute(\n",
    "    robot,\n",
    "    planning_component,\n",
    "    logger,\n",
    "    single_plan_parameters=None,\n",
    "    multi_plan_parameters=None,\n",
    "    sleep_time=0.0,\n",
    "):\n",
    "    # plan to goal\n",
    "    logger.info(\"Planning trajectory\")\n",
    "    if multi_plan_parameters is not None:\n",
    "        plan_result = planning_component.plan(\n",
    "            multi_plan_parameters=multi_plan_parameters\n",
    "        )\n",
    "    elif single_plan_parameters is not None:\n",
    "        plan_result = planning_component.plan(\n",
    "            single_plan_parameters=single_plan_parameters\n",
    "        )\n",
    "    else:\n",
    "        plan_result = planning_component.plan()\n",
    "\n",
    "    # execute the plan\n",
    "    if plan_result:\n",
    "        logger.info(\"Executing plan\")\n",
    "        robot_trajectory = plan_result.trajectory\n",
    "        robot.execute(robot_trajectory, controllers=[])\n",
    "    else:\n",
    "        logger.error(\"Planning failed\")\n",
    "\n",
    "    time.sleep(sleep_time)\n"
   ]
  },
  {
   "cell_type": "markdown",
   "metadata": {},
   "source": [
    "**convert euler angles to quaternions**\n",
    "\n",
    "- Convert angles in radiants to a list of quaternions."
   ]
  },
  {
   "cell_type": "code",
   "execution_count": 3,
   "metadata": {},
   "outputs": [],
   "source": [
    "def get_quaternion_from_euler(roll, pitch, yaw):\n",
    "\n",
    "  qx = np.sin(roll/2) * np.cos(pitch/2) * np.cos(yaw/2) - np.cos(roll/2) * np.sin(pitch/2) * np.sin(yaw/2)\n",
    "  qy = np.cos(roll/2) * np.sin(pitch/2) * np.cos(yaw/2) + np.sin(roll/2) * np.cos(pitch/2) * np.sin(yaw/2)\n",
    "  qz = np.cos(roll/2) * np.cos(pitch/2) * np.sin(yaw/2) - np.sin(roll/2) * np.sin(pitch/2) * np.cos(yaw/2)\n",
    "  qw = np.cos(roll/2) * np.cos(pitch/2) * np.cos(yaw/2) + np.sin(roll/2) * np.sin(pitch/2) * np.sin(yaw/2)\n",
    " \n",
    "  return [qx, qy, qz, qw]"
   ]
  },
  {
   "cell_type": "markdown",
   "metadata": {},
   "source": [
    "**set goal function**\n",
    "\n",
    "- Set the goal pose in quaternions."
   ]
  },
  {
   "cell_type": "code",
   "execution_count": 4,
   "metadata": {},
   "outputs": [],
   "source": [
    "def set_goal_from_angles(roll, pitch, yaw): \n",
    "    # ATTENZIONE! \" I would suggest using something like numpy-quaternion for making sure your input quaternion is valid and properly normalized, since it's very easy to run into precision issues\"\n",
    "    # Se i valori delle pose non sono ben normalizzati, il comando non diventa valido!\n",
    "    # set start state to current state\n",
    "    lite6_arm.set_start_state_to_current_state()\n",
    "\n",
    "    quaternion = get_quaternion_from_euler (roll, pitch, yaw)\n",
    "\n",
    "    pose_goal = Pose()    \n",
    "    pose_goal.orientation.x = quaternion[0]\n",
    "    pose_goal.orientation.y = quaternion[1]\n",
    "    pose_goal.orientation.z = quaternion[2]\n",
    "    pose_goal.orientation.w = quaternion[3]\n"
   ]
  },
  {
   "cell_type": "markdown",
   "metadata": {},
   "source": [
    "**Configure MoveitPy**\n",
    "\n",
    "- Configures MoveitPy oject with yamls files such as description, trajectory execution, semantic, kinematics, joint limits and planning config"
   ]
  },
  {
   "cell_type": "code",
   "execution_count": 5,
   "metadata": {},
   "outputs": [
    {
     "name": "stderr",
     "output_type": "stream",
     "text": [
      "WARNING:root:\u001b[33;21mCannot infer SRDF from `/home/lite6/ros2_ws/ws_moveit2/install/lite6_enrico/share/lite6_enrico`. -- using config/UF_ROBOT.srdf\u001b[0m\n",
      "warning: Using load_yaml() directly is deprecated. Use xacro.load_yaml() instead.\n"
     ]
    }
   ],
   "source": [
    "moveit_config = (\n",
    "        MoveItConfigsBuilder(robot_name=\"UF_ROBOT\", package_name=\"lite6_enrico\")\n",
    "        .robot_description_semantic(file_path=\"config/UF_ROBOT.srdf\")\n",
    "        .trajectory_execution(file_path=\"config/moveit_controllers.yaml\")\n",
    "        .robot_description(file_path=\"config/UF_ROBOT.urdf.xacro\")\n",
    "        .robot_description_kinematics(file_path=\"config/kinematics.yaml\")\n",
    "        .joint_limits(file_path=\"config/joint_limits.yaml\")\n",
    "        .moveit_cpp(\n",
    "            file_path=get_package_share_directory(\"lite6_moveit_demos\")\n",
    "            + \"/config/moveit_cpp.yaml\"\n",
    "        )\n",
    "        .to_moveit_configs()\n",
    "    ).to_dict()"
   ]
  },
  {
   "cell_type": "markdown",
   "metadata": {},
   "source": [
    "**initialise MoveitPY**\n",
    "\n",
    "- Initializes MoveitPy node given the configuration builder set in the previous cell"
   ]
  },
  {
   "cell_type": "code",
   "execution_count": 6,
   "metadata": {},
   "outputs": [
    {
     "name": "stderr",
     "output_type": "stream",
     "text": [
      "[INFO] [1722276514.473236137] [moveit_4131230540.moveit.py.cpp_initializer]: Initialize rclcpp\n",
      "[INFO] [1722276514.473272304] [moveit_4131230540.moveit.py.cpp_initializer]: Initialize node parameters\n",
      "[INFO] [1722276514.473277033] [moveit_4131230540.moveit.py.cpp_initializer]: Initialize node and executor\n",
      "[INFO] [1722276514.482348305] [moveit_4131230540.moveit.py.cpp_initializer]: Spin separate thread\n",
      "[INFO] [1722276514.486829589] [moveit_4131230540.moveit.ros.rdf_loader]: Loaded robot model in 0.00433989 seconds\n",
      "[INFO] [1722276514.486858312] [moveit_4131230540.moveit.core.robot_model]: Loading robot model 'UF_ROBOT'...\n",
      "[INFO] [1722276514.486864254] [moveit_4131230540.moveit.core.robot_model]: No root/virtual joint specified in SRDF. Assuming fixed joint\n",
      "[WARN] [1722276514.507278897] [moveit_4131230540.moveit.core.robot_model]: Could not identify parent group for end-effector 'link_tcp'\n",
      "[INFO] [1722276514.517593040] [moveit_4131230540.moveit.kinematics.kdl_kinematics_plugin]: Joint weights for group 'lite6_arm': 1 1 1 1 1 1\n",
      "[INFO] [1722276514.598903572] [moveit_4131230540.moveit.ros.planning_scene_monitor]: Publishing maintained planning scene on 'monitored_planning_scene'\n",
      "[INFO] [1722276514.599017165] [moveit_4131230540.moveit.ros.moveit_cpp]: Listening to '/joint_states' for joint states\n",
      "[INFO] [1722276514.599271011] [moveit_4131230540.moveit.ros.current_state_monitor]: Listening to joint states on topic '/joint_states'\n",
      "[INFO] [1722276514.599626768] [moveit_4131230540.moveit.ros.planning_scene_monitor]: Listening to '/moveit_cpp/planning_scene_monitor' for attached collision objects\n",
      "[INFO] [1722276514.599636146] [moveit_4131230540.moveit.ros.planning_scene_monitor]: Stopping existing planning scene publisher.\n",
      "[INFO] [1722276514.599740522] [moveit_4131230540.moveit.ros.planning_scene_monitor]: Stopped publishing maintained planning scene.\n",
      "[INFO] [1722276514.600551693] [moveit_4131230540.moveit.ros.planning_scene_monitor]: Publishing maintained planning scene on '/moveit_cpp/monitored_planning_scene'\n",
      "[INFO] [1722276514.600616625] [moveit_4131230540.moveit.ros.planning_scene_monitor]: Starting planning scene monitor\n",
      "[INFO] [1722276514.601407878] [moveit_4131230540.moveit.ros.planning_scene_monitor]: Listening to '/moveit_cpp/publish_planning_scene'\n",
      "[INFO] [1722276514.601417106] [moveit_4131230540.moveit.ros.planning_scene_monitor]: Starting world geometry update monitor for collision objects, attached objects, octomap updates.\n",
      "[INFO] [1722276514.601731125] [moveit_4131230540.moveit.ros.planning_scene_monitor]: Listening to 'collision_object'\n",
      "[INFO] [1722276514.602064810] [moveit_4131230540.moveit.ros.planning_scene_monitor]: Listening to 'planning_scene_world' for planning scene world geometry\n",
      "[WARN] [1722276514.604385572] [moveit_4131230540.moveit.ros.occupancy_map_monitor]: Resolution not specified for Octomap. Assuming resolution = 0.1 instead\n",
      "[ERROR] [1722276514.604416781] [moveit_4131230540.moveit.ros.occupancy_map_monitor]: No 3D sensor plugin(s) defined for octomap updates\n",
      "[INFO] [1722276514.640172815] [moveit_4131230540.moveit.ros.planning_pipeline]: Successfully loaded planner 'OMPL'\n",
      "[INFO] [1722276514.648923976] [moveit_py]: Try loading adapter 'default_planning_request_adapters/ResolveConstraintFrames'\n",
      "[INFO] [1722276514.650523756] [moveit_py]: Loaded adapter 'default_planning_request_adapters/ResolveConstraintFrames'\n",
      "[INFO] [1722276514.650542271] [moveit_py]: Try loading adapter 'default_planning_request_adapters/ValidateWorkspaceBounds'\n",
      "[INFO] [1722276514.650814371] [moveit_py]: Loaded adapter 'default_planning_request_adapters/ValidateWorkspaceBounds'\n",
      "[INFO] [1722276514.650826674] [moveit_py]: Try loading adapter 'default_planning_request_adapters/CheckStartStateBounds'\n",
      "[INFO] [1722276514.650851671] [moveit_py]: Loaded adapter 'default_planning_request_adapters/CheckStartStateBounds'\n",
      "[INFO] [1722276514.650861429] [moveit_py]: Try loading adapter 'default_planning_request_adapters/CheckStartStateCollision'\n",
      "[INFO] [1722276514.650878882] [moveit_py]: Loaded adapter 'default_planning_request_adapters/CheckStartStateCollision'\n",
      "[INFO] [1722276514.659338106] [moveit_py]: Try loading adapter 'default_planning_response_adapters/AddTimeOptimalParameterization'\n",
      "[INFO] [1722276514.661433395] [moveit_py]: Loaded adapter 'default_planning_response_adapters/AddTimeOptimalParameterization'\n",
      "[INFO] [1722276514.661455196] [moveit_py]: Try loading adapter 'default_planning_response_adapters/ValidateSolution'\n",
      "[INFO] [1722276514.662289290] [moveit_py]: Loaded adapter 'default_planning_response_adapters/ValidateSolution'\n",
      "[INFO] [1722276514.662304699] [moveit_py]: Try loading adapter 'default_planning_response_adapters/DisplayMotionPath'\n",
      "[INFO] [1722276514.662842447] [moveit_py]: Loaded adapter 'default_planning_response_adapters/DisplayMotionPath'\n",
      "[INFO] [1722276514.672731552] [moveit_4131230540.moveit.planners.pilz.joint_limits_aggregator]: Reading limits from namespace robot_description_planning\n",
      "[INFO] [1722276514.678455657] [moveit_4131230540.moveit.planners.pilz.command_planner]: Available plugins: pilz_industrial_motion_planner/PlanningContextLoaderCIRC pilz_industrial_motion_planner/PlanningContextLoaderLIN pilz_industrial_motion_planner/PlanningContextLoaderPTP \n",
      "[INFO] [1722276514.678466858] [moveit_4131230540.moveit.planners.pilz.command_planner]: About to load: pilz_industrial_motion_planner/PlanningContextLoaderCIRC\n",
      "[INFO] [1722276514.679905285] [moveit_4131230540.moveit.planners.pilz.command_planner]: Registered Algorithm [CIRC]\n",
      "[INFO] [1722276514.679915955] [moveit_4131230540.moveit.planners.pilz.command_planner]: About to load: pilz_industrial_motion_planner/PlanningContextLoaderLIN\n",
      "[INFO] [1722276514.680890713] [moveit_4131230540.moveit.planners.pilz.command_planner]: Registered Algorithm [LIN]\n",
      "[INFO] [1722276514.680898859] [moveit_4131230540.moveit.planners.pilz.command_planner]: About to load: pilz_industrial_motion_planner/PlanningContextLoaderPTP\n",
      "[INFO] [1722276514.681845424] [moveit_4131230540.moveit.planners.pilz.command_planner]: Registered Algorithm [PTP]\n",
      "[INFO] [1722276514.681856655] [moveit_4131230540.moveit.ros.planning_pipeline]: Successfully loaded planner 'Pilz Industrial Motion Planner'\n",
      "[INFO] [1722276514.688679710] [moveit_py]: Try loading adapter 'default_planning_request_adapters/ResolveConstraintFrames'\n",
      "[INFO] [1722276514.689187583] [moveit_py]: Loaded adapter 'default_planning_request_adapters/ResolveConstraintFrames'\n",
      "[INFO] [1722276514.689196499] [moveit_py]: Try loading adapter 'default_planning_request_adapters/ValidateWorkspaceBounds'\n",
      "[INFO] [1722276514.689350458] [moveit_py]: Loaded adapter 'default_planning_request_adapters/ValidateWorkspaceBounds'\n",
      "[INFO] [1722276514.689361960] [moveit_py]: Try loading adapter 'default_planning_request_adapters/CheckStartStateBounds'\n",
      "[INFO] [1722276514.689380785] [moveit_py]: Loaded adapter 'default_planning_request_adapters/CheckStartStateBounds'\n",
      "[INFO] [1722276514.689387237] [moveit_py]: Try loading adapter 'default_planning_request_adapters/CheckStartStateCollision'\n",
      "[INFO] [1722276514.689398929] [moveit_py]: Loaded adapter 'default_planning_request_adapters/CheckStartStateCollision'\n",
      "[INFO] [1722276514.696235490] [moveit_py]: Try loading adapter 'default_planning_response_adapters/ValidateSolution'\n",
      "[INFO] [1722276514.697293023] [moveit_py]: Loaded adapter 'default_planning_response_adapters/ValidateSolution'\n",
      "[INFO] [1722276514.697308081] [moveit_py]: Try loading adapter 'default_planning_response_adapters/DisplayMotionPath'\n",
      "[INFO] [1722276514.698609421] [moveit_py]: Loaded adapter 'default_planning_response_adapters/DisplayMotionPath'\n",
      "[INFO] [1722276514.710206089] [moveit_4131230540.moveit.ros.planning_pipeline]: Successfully loaded planner 'CHOMP'\n",
      "[INFO] [1722276514.716985442] [moveit_py]: Try loading adapter 'default_planning_request_adapters/ResolveConstraintFrames'\n",
      "[INFO] [1722276514.717517219] [moveit_py]: Loaded adapter 'default_planning_request_adapters/ResolveConstraintFrames'\n",
      "[INFO] [1722276514.717526457] [moveit_py]: Try loading adapter 'default_planning_request_adapters/ValidateWorkspaceBounds'\n",
      "[INFO] [1722276514.717780323] [moveit_py]: Loaded adapter 'default_planning_request_adapters/ValidateWorkspaceBounds'\n",
      "[INFO] [1722276514.717825508] [moveit_py]: Try loading adapter 'default_planning_request_adapters/CheckStartStateBounds'\n",
      "[INFO] [1722276514.717849192] [moveit_py]: Loaded adapter 'default_planning_request_adapters/CheckStartStateBounds'\n",
      "[INFO] [1722276514.717855915] [moveit_py]: Try loading adapter 'default_planning_request_adapters/CheckStartStateCollision'\n",
      "[INFO] [1722276514.717869300] [moveit_py]: Loaded adapter 'default_planning_request_adapters/CheckStartStateCollision'\n",
      "[INFO] [1722276514.724645778] [moveit_py]: Try loading adapter 'default_planning_response_adapters/AddTimeOptimalParameterization'\n",
      "[INFO] [1722276514.725622479] [moveit_py]: Loaded adapter 'default_planning_response_adapters/AddTimeOptimalParameterization'\n",
      "[INFO] [1722276514.725645142] [moveit_py]: Try loading adapter 'default_planning_response_adapters/ValidateSolution'\n",
      "[INFO] [1722276514.725978537] [moveit_py]: Loaded adapter 'default_planning_response_adapters/ValidateSolution'\n",
      "[INFO] [1722276514.725994146] [moveit_py]: Try loading adapter 'default_planning_response_adapters/DisplayMotionPath'\n",
      "[INFO] [1722276514.726501678] [moveit_py]: Loaded adapter 'default_planning_response_adapters/DisplayMotionPath'\n",
      "[INFO] [1722276514.749922459] [moveit_4131230540.moveit.plugins.simple_controller_manager]: Added FollowJointTrajectory controller for lite6_arm_controller\n",
      "[INFO] [1722276514.750053024] [moveit_4131230540.moveit.plugins.simple_controller_manager]: Returned 1 controllers in list\n",
      "[INFO] [1722276514.750067782] [moveit_4131230540.moveit.plugins.simple_controller_manager]: Returned 1 controllers in list\n",
      "[INFO] [1722276514.750269330] [moveit_4131230540.moveit.ros.trajectory_execution_manager]: Trajectory execution is managing controllers\n"
     ]
    }
   ],
   "source": [
    "rclpy.init() # initialise rclpy (only for logging purposes)\n",
    "logger = get_logger(\"moveit_py.pose_goal\")\n",
    "\n",
    "# instantiate moveit_py instance and a planning component for the panda_arm\n",
    "lite6 = MoveItPy(node_name=\"moveit_py\", config_dict=moveit_config)\n",
    "lite6_arm = lite6.get_planning_component(\"lite6_arm\")"
   ]
  },
  {
   "cell_type": "markdown",
   "metadata": {},
   "source": [
    "**Go to pose definition**\n",
    "\n",
    "- This function go_to_pose(roll, pitch, yaw) is used to move a robot arm to a specific pose defined by the roll, pitch, and yaw parameters. Here's a step-by-step explanation:\n",
    "\n",
    "1. The function starts by setting plan to False. This variable is used later to check if the robot arm was able to find a valid pose.\n",
    "\n",
    "2. It gets a planning scene monitor from the robot arm. This monitor is used to get the current state of the robot and to set the new pose.\n",
    "\n",
    "3. It creates a RobotState instance using the current state of the robot. This state includes the current positions of the robot's joints.\n",
    "\n",
    "4. It sets the start state of the robot arm to its current state.\n",
    "\n",
    "5. It gets the current pose of the robot arm's end effector (the \"link_tcp\").\n",
    "\n",
    "6. It prints the initial pose, the roll, pitch, yaw values, and the corresponding quaternion.\n",
    "\n",
    "7. creates a new pose goal based on the current pose but with the orientation defined by the quaternion calculated from the roll, pitch, and yaw.\n",
    "\n",
    "8. tries to set the robot state to the new pose using inverse kinematics (IK). If it can't find a valid pose that doesn't collide with anything, it logs an error message and returns from the function.\n",
    "\n",
    "9.  a valid pose is found, it sets the goal state of the robot arm to the new pose and updates the robot state.\n",
    "\n",
    "10. It gets the updated pose of the robot arm's end effector and prints it.\n",
    "\n",
    "11. It logs a message indicating that the robot arm is moving to the goal pose.\n",
    "\n",
    "12. It sets the joint positions of the robot arm back to their original positions and updates the robot state.\n",
    "\n",
    "13. If a valid pose was found (i.e., plan is True), it calls a function plan_and_execute to move the robot arm to the new pose."
   ]
  },
  {
   "cell_type": "code",
   "execution_count": 7,
   "metadata": {},
   "outputs": [],
   "source": [
    "from geometry_msgs.msg import PoseStamped, Pose, Point    # set pose goal with PoseStamped messsage\n",
    "def go_to_pose(roll, pitch, yaw, movx, movy, movz):\n",
    "        plan = False\n",
    "        planning_scene_monitor = lite6.get_planning_scene_monitor()\n",
    "        #with planning_scene_monitor.read_write() as scene:\n",
    "        with planning_scene_monitor.read_only() as scene:\n",
    "\n",
    "            # instantiate a RobotState instance using the current robot model\n",
    "            robot_state = scene.current_state\n",
    "            original_joint_positions = robot_state.get_joint_group_positions(\"lite6_arm\")\n",
    "\n",
    "            lite6_arm.set_start_state_to_current_state()\n",
    "\n",
    "            check_init_pose = robot_state.get_pose(\"link_tcp\")\n",
    "            print(\"Initial_pose:\", check_init_pose)\n",
    "            print(\"roll is\", roll,\"pitch is\", pitch,\"yaw is\", yaw)\n",
    "            print(\"Quaternions are\", get_quaternion_from_euler(roll, pitch, yaw))\n",
    "\n",
    "            quaternion = get_quaternion_from_euler (roll, pitch, yaw)\n",
    "\n",
    "            pose_goal = Pose()\n",
    "            pose_goal.position.x = check_init_pose.position.x  + movx\n",
    "            pose_goal.position.y = check_init_pose.position.y  + movy\n",
    "            pose_goal.position.z = check_init_pose.position.z  + movz\n",
    "            pose_goal.orientation.x = quaternion[0]\n",
    "            pose_goal.orientation.y = quaternion[1]\n",
    "            pose_goal.orientation.z = quaternion[2]\n",
    "            pose_goal.orientation.w = quaternion[3]\n",
    "\n",
    "\n",
    "            # Set the robot state and check collisions\n",
    "            result = robot_state.set_from_ik(\"lite6_arm\", pose_goal, \"link_tcp\", timeout=5.0)\n",
    "            if not result:\n",
    "                logger.error(\"IK solution was not found!\")\n",
    "                return\n",
    "            else:\n",
    "                logger.info(\"IK solution found!\")\n",
    "                plan = True\n",
    "            \n",
    "                lite6_arm.set_goal_state(robot_state=robot_state)   \n",
    "            \n",
    "                robot_state.update() # otherwise the kernel crashes\n",
    "\n",
    "                check_updated_pose = robot_state.get_pose(\"link_tcp\")\n",
    "\n",
    "                print(\"New_pose:\", check_updated_pose)\n",
    "\n",
    "                logger.info(\"Go to goal\")\n",
    "\n",
    "                robot_state.set_joint_group_positions(\n",
    "                \"lite6_arm\",\n",
    "                original_joint_positions,\n",
    "                    )\n",
    "                robot_state.update()\n",
    "\n",
    "        if plan == True:\n",
    "            plan_and_execute(lite6, lite6_arm, logger,sleep_time=3.0) "
   ]
  },
  {
   "cell_type": "code",
   "execution_count": 17,
   "metadata": {},
   "outputs": [
    {
     "name": "stdout",
     "output_type": "stream",
     "text": [
      "Initial_pose: geometry_msgs.msg.Pose(position=geometry_msgs.msg.Point(x=0.3366602679038887, y=0.10001744358528694, z=0.5800369190677102), orientation=geometry_msgs.msg.Quaternion(x=0.7071309409165486, y=-1.7545715376952038e-05, z=0.7070826199159642, w=2.652171126323744e-05))\n",
      "roll is -3.141592653589793 pitch is 0 yaw is 0\n",
      "Quaternions are [-1.0, 0.0, 0.0, 6.123233995736766e-17]\n"
     ]
    },
    {
     "name": "stderr",
     "output_type": "stream",
     "text": [
      "[ERROR] [1722276780.201203761] [moveit_py.pose_goal]: IK solution was not found!\n"
     ]
    }
   ],
   "source": [
    "# Questa sotto è òa configurazzione di default, alla fine il primo parametro sarà sempre il tezo dovrà cambiare.\n",
    "# l'apertura del gripper è sempre parallela al suo asse x\n",
    "#go_to_pose(0,pi,0, random.uniform(-0.1, 0.1),random.uniform(-0.1, 0.1),random.uniform(-0.1, 0.1)) questa è una configurazione di default con il gripper in basso \n",
    "#go_to_pose(0,pi,pi/2) # questa è una configurazione di default con il gripper in basso\n",
    "#go_to_pose(0,pi,random.uniform(-2*pi, 2*pi),random.uniform(-0.1, 0.1),random.uniform(-0.1, 0.1),random.uniform(-0.1, 0.1))\n",
    "#go_to_pose(0,-pi,random.uniform(-2*pi, 2*pi),random.uniform(-0.1, 0.1),random.uniform(-0.1, 0.1),random.un\n",
    "go_to_pose(-pi/2,0,0,random.uniform(-0.1, 0.1),random.uniform(-0.1, 0.1),random.uniform(-0.1, 0.1))\n",
    "\n"
   ]
  },
  {
   "cell_type": "code",
   "execution_count": null,
   "metadata": {},
   "outputs": [],
   "source": [
    "def got_to_position(movx, movy, movz):\n",
    "        plan = False\n",
    "        planning_scene_monitor = lite6.get_planning_scene_monitor()\n",
    "        #with planning_scene_monitor.read_write() as scene:\n",
    "        with planning_scene_monitor.read_write() as scene:\n",
    "\n",
    "            # instantiate a RobotState instance using the current robot model\n",
    "            robot_state = scene.current_state\n",
    "            original_joint_positions = robot_state.get_joint_group_positions(\"lite6_arm\")\n",
    "\n",
    "            lite6_arm.set_start_state_to_current_state()\n",
    "\n",
    "            quaternion = get_quaternion_from_euler (0, pi, 0)\n",
    "\n",
    "            pose_goal = Pose() # With this configuration of the orientation the gripper is always parallel to the x axis, so it aims  orientation [1.0,0.0,0.0,0.0]\n",
    "            pose_goal.position.x = movx\n",
    "            pose_goal.position.y = movy\n",
    "            pose_goal.position.z = movz\n",
    "            '''\n",
    "            #pose_goal.orientation.x = quaternion[0]\n",
    "            #pose_goal.orientation.x = 1.0\n",
    "            #pose_goal.orientation.y = quaternion[1]\n",
    "            #pose_goal.orientation.y = 0.0\n",
    "            pose_goal.orientation.z = 0.01\n",
    "            pose_goal.orientation.w = 0.01\n",
    "            '''\n",
    "            pose_goal.orientation.x = 1.0\n",
    "            pose_goal.orientation.y = 0.0\n",
    "            pose_goal.orientation.z = 0.0\n",
    "            pose_goal.orientation.w = 0.0\n",
    "\n",
    "            # Set the robot state and check collisions\n",
    "            result = robot_state.set_from_ik(\"lite6_arm\", pose_goal, \"link_tcp\", timeout=2.0)\n",
    "            #result = robot_state.set_from_ik(\"lite6_arm\", pose_goal, \"camera_depth_frame\", timeout=5.0)\n",
    "            if not result:\n",
    "                logger.error(\"IK solution was not found!\")\n",
    "                return\n",
    "            else:\n",
    "                logger.info(\"IK solution found!\")\n",
    "                plan = True\n",
    "            \n",
    "                lite6_arm.set_goal_state(robot_state=robot_state)   \n",
    "            \n",
    "                robot_state.update() # otherwise the kernel crashes\n",
    "\n",
    "                check_updated_pose = robot_state.get_pose(\"link_tcp\")\n",
    "                #check_updated_pose = robot_state.get_pose(\"camera_depth_frame\")\n",
    "\n",
    "                print(\"New_pose:\", check_updated_pose)\n",
    "\n",
    "                logger.info(\"Go to goal\")\n",
    "\n",
    "                robot_state.set_joint_group_positions(\n",
    "                \"lite6_arm\",\n",
    "                original_joint_positions,\n",
    "                    )\n",
    "                robot_state.update()\n",
    "\n",
    "        if plan == True:\n",
    "            plan_and_execute(lite6, lite6_arm, logger,sleep_time=2.0) "
   ]
  },
  {
   "cell_type": "code",
   "execution_count": null,
   "metadata": {},
   "outputs": [],
   "source": [
    "got_to_position(0.3,0.1,0.1)"
   ]
  },
  {
   "cell_type": "markdown",
   "metadata": {},
   "source": [
    "**The cell that follows basically let the robot do a ciurcular movement around a certain point defined in space**"
   ]
  },
  {
   "cell_type": "code",
   "execution_count": null,
   "metadata": {},
   "outputs": [],
   "source": [
    "\n",
    "# Define the circular trajectory parameters\n",
    "center_x = 0.3  # X coordinate of the circle center\n",
    "center_y = 0.0  # Y coordinate of the circle center, the y axis is the one that from the robot base perpendicular to the edge of the table\n",
    "center_z = 0.3  # Z coordinate of the circle center (height)\n",
    "radius = 0.15   # Radius of the circle\n",
    "num_points = 15  # Number of points along the circular path\n",
    "duration = 75 # Total duration to complete the circle in seconds\n",
    "\n",
    "# Calculate the points along the circular path\n",
    "angles = np.linspace(0, 2 * np.pi, num_points)\n",
    "x_points = center_x + radius * np.cos(angles)\n",
    "y_points = center_y + radius * np.sin(angles)\n",
    "z_points = np.full_like(x_points, center_z)\n",
    "\n",
    "# Move the end effector along the circular trajectory\n",
    "start_time = time.time()\n",
    "for x, y, z in zip(x_points, y_points, z_points):\n",
    "    got_to_position(x, y, z)\n",
    "    # Ensure the motion is spread evenly over the duration\n",
    "    #time.sleep(duration / num_points)\n",
    "\n",
    "end_time = time.time()\n",
    "print(f\"Completed circular trajectory in {end_time - start_time:.2f} seconds\")\n"
   ]
  },
  {
   "cell_type": "code",
   "execution_count": null,
   "metadata": {},
   "outputs": [],
   "source": []
  },
  {
   "cell_type": "markdown",
   "metadata": {},
   "source": [
    "in sostanza si applicano dei contraint ai gradi di libertà sulla terna dell'EE per cui la go_to_pose avrà sempre come primo parametro lo 0 mentre come secondo pi."
   ]
  },
  {
   "cell_type": "markdown",
   "metadata": {},
   "source": [
    "**Il prossimo passo è quello di implementare matrici di rotazione per il movimento dell'EE del robot**\n",
    "\n",
    "Osservazione: il problema è che tu non hai una terna di riferimento a tutti gli effetti, alla fine ti basi sempre sulla terna precedente in quanto a posizione e ad orientamento pure"
   ]
  },
  {
   "cell_type": "markdown",
   "metadata": {},
   "source": []
  }
 ],
 "metadata": {
  "kernelspec": {
   "display_name": "Python 3",
   "language": "python",
   "name": "python3"
  },
  "language_info": {
   "codemirror_mode": {
    "name": "ipython",
    "version": 3
   },
   "file_extension": ".py",
   "mimetype": "text/x-python",
   "name": "python",
   "nbconvert_exporter": "python",
   "pygments_lexer": "ipython3",
   "version": "3.10.12"
  }
 },
 "nbformat": 4,
 "nbformat_minor": 2
}
